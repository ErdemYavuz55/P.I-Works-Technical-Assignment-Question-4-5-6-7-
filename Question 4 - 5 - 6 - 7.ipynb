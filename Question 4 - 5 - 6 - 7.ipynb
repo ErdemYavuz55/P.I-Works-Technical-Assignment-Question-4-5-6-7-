{
 "cells": [
  {
   "cell_type": "code",
   "execution_count": 6,
   "id": "26cf25be",
   "metadata": {},
   "outputs": [
    {
     "data": {
      "text/html": [
       "<div>\n",
       "<style scoped>\n",
       "    .dataframe tbody tr th:only-of-type {\n",
       "        vertical-align: middle;\n",
       "    }\n",
       "\n",
       "    .dataframe tbody tr th {\n",
       "        vertical-align: top;\n",
       "    }\n",
       "\n",
       "    .dataframe thead th {\n",
       "        text-align: right;\n",
       "    }\n",
       "</style>\n",
       "<table border=\"1\" class=\"dataframe\">\n",
       "  <thead>\n",
       "    <tr style=\"text-align: right;\">\n",
       "      <th></th>\n",
       "      <th>country</th>\n",
       "      <th>date</th>\n",
       "      <th>daily_vaccinations</th>\n",
       "      <th>vaccines</th>\n",
       "    </tr>\n",
       "  </thead>\n",
       "  <tbody>\n",
       "    <tr>\n",
       "      <th>0</th>\n",
       "      <td>Argentina</td>\n",
       "      <td>12/29/2020</td>\n",
       "      <td>NaN</td>\n",
       "      <td>Sputnik V</td>\n",
       "    </tr>\n",
       "    <tr>\n",
       "      <th>1</th>\n",
       "      <td>Argentina</td>\n",
       "      <td>12/30/2020</td>\n",
       "      <td>15656.0</td>\n",
       "      <td>Sputnik V</td>\n",
       "    </tr>\n",
       "    <tr>\n",
       "      <th>2</th>\n",
       "      <td>Argentina</td>\n",
       "      <td>12/31/2020</td>\n",
       "      <td>15656.0</td>\n",
       "      <td>Sputnik V</td>\n",
       "    </tr>\n",
       "    <tr>\n",
       "      <th>3</th>\n",
       "      <td>Argentina</td>\n",
       "      <td>1/1/2021</td>\n",
       "      <td>11070.0</td>\n",
       "      <td>Sputnik V</td>\n",
       "    </tr>\n",
       "    <tr>\n",
       "      <th>4</th>\n",
       "      <td>Argentina</td>\n",
       "      <td>1/2/2021</td>\n",
       "      <td>8776.0</td>\n",
       "      <td>Sputnik V</td>\n",
       "    </tr>\n",
       "  </tbody>\n",
       "</table>\n",
       "</div>"
      ],
      "text/plain": [
       "     country        date  daily_vaccinations   vaccines\n",
       "0  Argentina  12/29/2020                 NaN  Sputnik V\n",
       "1  Argentina  12/30/2020             15656.0  Sputnik V\n",
       "2  Argentina  12/31/2020             15656.0  Sputnik V\n",
       "3  Argentina    1/1/2021             11070.0  Sputnik V\n",
       "4  Argentina    1/2/2021              8776.0  Sputnik V"
      ]
     },
     "execution_count": 6,
     "metadata": {},
     "output_type": "execute_result"
    }
   ],
   "source": [
    "import pandas as pd\n",
    "\n",
    "file_path = 'country_vaccination_stats.csv'\n",
    "df = pd.read_csv(file_path)\n",
    "\n",
    "df.head()\n",
    "#df.shape\n",
    "#df.isnull().sum()\n"
   ]
  },
  {
   "cell_type": "code",
   "execution_count": 7,
   "id": "88564407",
   "metadata": {},
   "outputs": [],
   "source": [
    "# Question 4 - Question 5\n",
    "def fill_missing_vaccinations(data):\n",
    "    countries = data['country'].unique()\n",
    "    for country in countries:\n",
    "        country_data = data[data['country'] == country]\n",
    "        min_vaccination = country_data['daily_vaccinations'].min()\n",
    "        if pd.isna(min_vaccination):\n",
    "            min_vaccination = 0\n",
    "        data.loc[data['country'] == country, 'daily_vaccinations'] = country_data['daily_vaccinations'].fillna(min_vaccination)\n",
    "    return data\n",
    "\n",
    "df_filled = fill_missing_vaccinations(df)\n"
   ]
  },
  {
   "cell_type": "code",
   "execution_count": 14,
   "id": "876a9fc3",
   "metadata": {},
   "outputs": [
    {
     "name": "stdout",
     "output_type": "stream",
     "text": [
      "country\n",
      "United States    378253.0\n",
      "China            276786.0\n",
      "India            173922.0\n",
      "Name: daily_vaccinations, dtype: float64\n"
     ]
    }
   ],
   "source": [
    "# Question 6\n",
    "median_vaccinations = df_filled.groupby('country')['daily_vaccinations'].median()\n",
    "\n",
    "top_3_countries = median_vaccinations.nlargest(3)\n",
    "print(top_3_countries)"
   ]
  },
  {
   "cell_type": "code",
   "execution_count": null,
   "id": "7bf66893",
   "metadata": {},
   "outputs": [],
   "source": [
    "# Question 7\n",
    "total_vaccinations_on_date = df_filled[df_filled['date'] == '1/6/2021']['daily_vaccinations'].sum()\n"
   ]
  }
 ],
 "metadata": {
  "kernelspec": {
   "display_name": "Python 3 (ipykernel)",
   "language": "python",
   "name": "python3"
  },
  "language_info": {
   "codemirror_mode": {
    "name": "ipython",
    "version": 3
   },
   "file_extension": ".py",
   "mimetype": "text/x-python",
   "name": "python",
   "nbconvert_exporter": "python",
   "pygments_lexer": "ipython3",
   "version": "3.10.9"
  }
 },
 "nbformat": 4,
 "nbformat_minor": 5
}
